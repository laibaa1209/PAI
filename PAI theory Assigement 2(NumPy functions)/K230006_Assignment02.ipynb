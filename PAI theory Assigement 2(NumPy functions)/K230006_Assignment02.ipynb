{
 "cells": [
  {
   "cell_type": "markdown",
   "metadata": {},
   "source": [
    "# Question 01:\n",
    "###### Create a one-dimensional NumPy array containing integers from 1 to 10. Compute the sum, mean, and product of the array."
   ]
  },
  {
   "cell_type": "code",
   "execution_count": 7,
   "metadata": {},
   "outputs": [
    {
     "name": "stdout",
     "output_type": "stream",
     "text": [
      "The array is:  [ 1  2  3  4  5  6  7  8  9 10]\n",
      "Sum: 55\n",
      "Mean: 5.5\n",
      "Multiplication: 3628800\n"
     ]
    }
   ],
   "source": [
    "import numpy as np\n",
    "array = np.arange(1, 11)\n",
    "print(\"The array is: \", array)\n",
    "mean = np.mean(array)\n",
    "product = np.prod(array)\n",
    "sum = np.sum(array)\n",
    "\n",
    "print(f\"Sum: {sum}\\nMean: {mean}\\nMultiplication: {product}\")\n"
   ]
  },
  {
   "cell_type": "markdown",
   "metadata": {},
   "source": [
    "# Quetion 02:\n",
    "###### Generate a 3x3 matrix with random integers. Calculate the transpose of the matrix."
   ]
  },
  {
   "cell_type": "code",
   "execution_count": 12,
   "metadata": {},
   "outputs": [
    {
     "name": "stdout",
     "output_type": "stream",
     "text": [
      "The matrix is:\n",
      " [[5 1 1]\n",
      " [9 7 5]\n",
      " [7 3 4]]\n",
      "The transpose of matrix is:\n",
      " [[5 9 7]\n",
      " [1 7 3]\n",
      " [1 5 4]]\n"
     ]
    }
   ],
   "source": [
    "matrix = np.random.randint(1, 10, size=(3,3))\n",
    "print(\"The matrix is:\\n\", matrix)\n",
    "\n",
    "transpose = np.transpose(matrix)\n",
    "print(\"The transpose of matrix is:\\n\", transpose)"
   ]
  },
  {
   "cell_type": "markdown",
   "metadata": {},
   "source": [
    "# Question 03:\n",
    "###### Create a NumPy array with 20 values and reshape it into a 4x5 matrix."
   ]
  },
  {
   "cell_type": "code",
   "execution_count": 14,
   "metadata": {},
   "outputs": [
    {
     "name": "stdout",
     "output_type": "stream",
     "text": [
      "The array before reshaping:  [ 1  2  3  4  5  6  7  8  9 10 11 12 13 14 15 16 17 18 19 20]\n",
      "The reshaped array into (4x5) is:\n",
      " [[ 1  2  3  4  5]\n",
      " [ 6  7  8  9 10]\n",
      " [11 12 13 14 15]\n",
      " [16 17 18 19 20]]\n"
     ]
    }
   ],
   "source": [
    "array = np.arange(1, 21)\n",
    "print(\"The array before reshaping: \", array)\n",
    "\n",
    "array = array.reshape(4, 5)\n",
    "print(\"The reshaped array into (4x5) is:\\n\", array)"
   ]
  },
  {
   "cell_type": "markdown",
   "metadata": {},
   "source": [
    "# Question 04:\n",
    "###### Perform element-wise addition, subtraction, multiplication, and division on two NumPy arrays of your choice."
   ]
  },
  {
   "cell_type": "code",
   "execution_count": 27,
   "metadata": {},
   "outputs": [
    {
     "name": "stdout",
     "output_type": "stream",
     "text": [
      "The first Array is:  [ 7 19 11 13  2  8  3 16]\n",
      "The second Array is:  [ 8  7  3 16 17  2  7 13]\n",
      "The sum is: [15 26 14 29 19 10 10 29]\n",
      "Multiplied elements array: [ 56 133  33 208  34  16  21 208]\n",
      "Subtracted elements array: [ -1  12   8  -3 -15   6  -4   3]\n",
      "Divided elements array: [0.875      2.71428571 3.66666667 0.8125     0.11764706 4.\n",
      " 0.42857143 1.23076923]\n",
      "\n"
     ]
    }
   ],
   "source": [
    "A = np.random.randint(1, 20, 8)\n",
    "B = np.random.randint(1, 20, 8)\n",
    "\n",
    "print(\"The first Array is: \", A)\n",
    "print(\"The second Array is: \", B)\n",
    "\n",
    "sum = np.add(A, B)\n",
    "product = np.multiply(A, B)\n",
    "subtraction = np.subtract(A, B)\n",
    "division = np.divide(A, B)\n",
    "\n",
    "print(f\"The sum is: {sum}\\nMultiplied elements array: {product}\\nSubtracted elements array: {subtraction}\\nDivided elements array: {division}\\n\")\n",
    "\n"
   ]
  },
  {
   "cell_type": "markdown",
   "metadata": {},
   "source": [
    "# Question 05:\n",
    "###### Create a NumPy array of 10 values and apply the square root function to each element."
   ]
  },
  {
   "cell_type": "code",
   "execution_count": 32,
   "metadata": {},
   "outputs": [
    {
     "name": "stdout",
     "output_type": "stream",
     "text": [
      "Original array: [  1   4   9  16  49  81 121  25  36  64]\n",
      "Square rooted array: [ 1.  2.  3.  4.  7.  9. 11.  5.  6.  8.]\n"
     ]
    }
   ],
   "source": [
    "array = np.array([1, 4, 9, 16, 49, 81, 121, 25, 36, 64])\n",
    "sq_root_array = np.sqrt(array)\n",
    "print(f\"Original array: {array}\\nSquare rooted array: {sq_root_array}\")\n"
   ]
  },
  {
   "cell_type": "markdown",
   "metadata": {},
   "source": [
    "# Question 06:\n",
    "###### Generate a 2x2 matrix and calculate its determinant and inverse."
   ]
  },
  {
   "cell_type": "code",
   "execution_count": 52,
   "metadata": {},
   "outputs": [
    {
     "name": "stdout",
     "output_type": "stream",
     "text": [
      "The matrix is:\n",
      "[[1 9]\n",
      " [3 6]]\n",
      "Inverse:\n",
      "[[-0.28571429  0.42857143]\n",
      " [ 0.14285714 -0.04761905]]\n",
      "Determinant Of Matrix is: -21\n"
     ]
    }
   ],
   "source": [
    "matrix = np.random.randint(1, 10, 4).reshape(2, 2)\n",
    "determinant = int(np.linalg.det(matrix))\n",
    "\n",
    "if determinant != 0:\n",
    "    inverse = np.linalg.inv(matrix)\n",
    "else:\n",
    "    print(\"Inverse is not possible\\n\")\n",
    "    inverse = None\n",
    "\n",
    "print(f\"The matrix is:\\n{matrix}\\nInverse:\\n{inverse}\\nDeterminant Of Matrix is: {determinant}\")"
   ]
  },
  {
   "cell_type": "markdown",
   "metadata": {},
   "source": [
    "# Question 07:\n",
    "###### Create a NumPy array with 50 random values. Find the indices of the maximum and minimum values in the array."
   ]
  },
  {
   "cell_type": "code",
   "execution_count": 80,
   "metadata": {},
   "outputs": [
    {
     "name": "stdout",
     "output_type": "stream",
     "text": [
      "The array is:  [340 489 498 305 317 176  14 485 472   5 119 127 397 278 241  62 212 234\n",
      " 419  62 113 359 194 372  86 216  49  95  74 213 456 484 316 327 452 222\n",
      " 480 273 368 425  91 487 276 147 463 269  95 425  95 472]\n",
      "The maximum value index is : 2\n",
      "The minimum value index is: 9\n"
     ]
    }
   ],
   "source": [
    "arr = np.random.randint(1, 500, 50)\n",
    "max_index = np.argmax(arr)\n",
    "min_index = np.argmin(arr)\n",
    "\n",
    "print(\"The array is: \", arr)\n",
    "print(f\"The maximum value index is : {max_index}\\nThe minimum value index is: {min_index}\")"
   ]
  },
  {
   "cell_type": "markdown",
   "metadata": {},
   "source": [
    "# Question 08:\n",
    "###### Create a 3x3 matrix representing a system of linear equations. Use NumPy to solve the system and print the solution."
   ]
  },
  {
   "cell_type": "code",
   "execution_count": 83,
   "metadata": {},
   "outputs": [
    {
     "name": "stdout",
     "output_type": "stream",
     "text": [
      "The solution for the system of equations is:\n",
      "x = -0.4883720930232557, y = 0.46511627906976744, z = 0.5813953488372092\n"
     ]
    }
   ],
   "source": [
    "#Ax=b\n",
    "A = np.array([[2, 3, 1],\n",
    "              [4, 1, 6],\n",
    "              [1, 5, 2]])\n",
    "\n",
    "b = np.array([1, 2, 3])\n",
    "\n",
    "solution = np.linalg.solve(A, b)\n",
    "\n",
    "print(\"The solution for the system of equations is:\")\n",
    "print(f\"x = {solution[0]}, y = {solution[1]}, z = {solution[2]}\")\n"
   ]
  },
  {
   "cell_type": "markdown",
   "metadata": {},
   "source": [
    "# Question 09:\n",
    "###### Create a NumPy array with 25 values and calculate the 75th percentile."
   ]
  },
  {
   "cell_type": "code",
   "execution_count": 87,
   "metadata": {},
   "outputs": [
    {
     "name": "stdout",
     "output_type": "stream",
     "text": [
      "The array is: [40 27 11 96 48 79 17 30 91 59 97 77 99 12 19 75 51 47 77 17 72 87 52 72\n",
      "  2]\n",
      "75th percentile of array is: 77.0\n"
     ]
    }
   ],
   "source": [
    "arr = np.random.randint(1, 100, 25)\n",
    "\n",
    "percentile_75th = np.percentile(arr, 75)\n",
    "print(f\"The array is: {arr}\\n75th percentile of array is: {percentile_75th}\")"
   ]
  },
  {
   "cell_type": "markdown",
   "metadata": {},
   "source": [
    "# Question 10:\n",
    "###### Implement a function that accepts a NumPy array and normalizes it (subtracts the mean and divides by the standard deviation). Apply this function to a sample array."
   ]
  },
  {
   "cell_type": "code",
   "execution_count": 91,
   "metadata": {},
   "outputs": [
    {
     "name": "stdout",
     "output_type": "stream",
     "text": [
      "Original array is: [7 9 3 9 9 5 7 6]\n",
      "The Normalized array is: [ 0.06166264  1.04826491 -1.91154189  1.04826491  1.04826491 -0.92493962\n",
      "  0.06166264 -0.43163849]\n"
     ]
    }
   ],
   "source": [
    "def normalize_array(arr):\n",
    "    mean = np.mean(arr)\n",
    "    std_deviation = np.std(arr)\n",
    "    normalized = np.divide((np.subtract(arr, mean)), std_deviation)\n",
    "    \n",
    "    return normalized\n",
    "\n",
    "array = np.random.randint(1, 10, 8)\n",
    "normalized_array_result = normalize_array(array)\n",
    "\n",
    "print(f\"Original array is: {array}\\nThe Normalized array is: {normalized_array_result}\")\n"
   ]
  }
 ],
 "metadata": {
  "kernelspec": {
   "display_name": "Python 3",
   "language": "python",
   "name": "python3"
  },
  "language_info": {
   "codemirror_mode": {
    "name": "ipython",
    "version": 3
   },
   "file_extension": ".py",
   "mimetype": "text/x-python",
   "name": "python",
   "nbconvert_exporter": "python",
   "pygments_lexer": "ipython3",
   "version": "3.12.4"
  }
 },
 "nbformat": 4,
 "nbformat_minor": 2
}
